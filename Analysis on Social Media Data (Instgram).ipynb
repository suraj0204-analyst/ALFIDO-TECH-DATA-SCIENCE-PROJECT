{
 "cells": [
  {
   "cell_type": "markdown",
   "id": "fab0917c-26dd-4aa1-93ca-a38a58db48f4",
   "metadata": {},
   "source": [
    "<h1>Analysis on Social Media Data (Instgram)</h1>"
   ]
  },
  {
   "cell_type": "markdown",
   "id": "418b1246-af68-4577-ac55-bb96c901790d",
   "metadata": {
    "jp-MarkdownHeadingCollapsed": true
   },
   "source": [
    "<h3>Import Required Libaries</h3>"
   ]
  },
  {
   "cell_type": "code",
   "execution_count": 62,
   "id": "b2bd9725-8074-400a-84ac-34e0e11c93a4",
   "metadata": {},
   "outputs": [],
   "source": [
    "import pandas as pd\n",
    "import matplotlib.pyplot as plt\n",
    "import seaborn as sns\n",
    "import warnings\n",
    "warnings.filterwarnings('ignore')"
   ]
  },
  {
   "cell_type": "markdown",
   "id": "9167811c-254d-44e3-b36d-46ce0845901b",
   "metadata": {
    "jp-MarkdownHeadingCollapsed": true
   },
   "source": [
    "<h3> Load ALl Dataset</h3>"
   ]
  },
  {
   "cell_type": "code",
   "execution_count": 2,
   "id": "f1d63ebe-0d77-4823-99f9-e82c839a6c23",
   "metadata": {},
   "outputs": [],
   "source": [
    "users= pd.read_csv(r'f:\\\\All Data\\Suraj Kundu\\Internship_Task-1\\Instagram\\users.csv')\n",
    "tags= pd.read_csv(r'f:\\\\All Data\\Suraj Kundu\\Internship_Task-1\\Instagram\\tags.csv')\n",
    "photos= pd.read_csv(r'f:\\\\All Data\\Suraj Kundu\\Internship_Task-1\\Instagram\\photos.csv')\n",
    "photo_tags= pd.read_csv(r'f:\\\\All Data\\Suraj Kundu\\Internship_Task-1\\Instagram\\photo_tags.csv')\n",
    "likes= pd.read_csv(r'f:\\\\All Data\\Suraj Kundu\\Internship_Task-1\\Instagram\\likes.csv')\n",
    "follows= pd.read_csv(r'f:\\\\All Data\\Suraj Kundu\\Internship_Task-1\\Instagram\\follows.csv')\n",
    "comments= pd.read_csv(r'f:\\\\All Data\\Suraj Kundu\\Internship_Task-1\\Instagram\\comments.csv')"
   ]
  },
  {
   "cell_type": "code",
   "execution_count": 3,
   "id": "cc50bce8-c5d1-49c4-a24b-245e06582812",
   "metadata": {},
   "outputs": [],
   "source": [
    "Dataset={'users': users,'tags': tags,'photos' : photos,'photo_tags' : photo_tags,'likes' : likes,'follows' : follows,'comments' : comments}"
   ]
  },
  {
   "cell_type": "markdown",
   "id": "df72cee0-6924-4a2e-90aa-016d314107fe",
   "metadata": {
    "jp-MarkdownHeadingCollapsed": true
   },
   "source": [
    "<h3> Check All Dataset</h3>"
   ]
  },
  {
   "cell_type": "code",
   "execution_count": 4,
   "id": "5d6cd480-df5a-4cf5-a183-a2a4bf2a2472",
   "metadata": {},
   "outputs": [
    {
     "name": "stdout",
     "output_type": "stream",
     "text": [
      "Columns in users:\n",
      "['id', 'name', 'created time', 'private/public', 'post count', 'Verified status']\n",
      "----------------------------------------------------------------------------------------------------\n",
      "Columns in tags:\n",
      "['id', 'tag text', 'created time', 'location']\n",
      "----------------------------------------------------------------------------------------------------\n",
      "Columns in photos:\n",
      "['id', 'image link', 'user ID', 'created dat', 'Insta filter used', 'photo type']\n",
      "----------------------------------------------------------------------------------------------------\n",
      "Columns in photo_tags:\n",
      "['photo', 'tag ID', 'user id']\n",
      "----------------------------------------------------------------------------------------------------\n",
      "Columns in likes:\n",
      "['user ', 'photo', 'created time', 'following or not', 'like type']\n",
      "----------------------------------------------------------------------------------------------------\n",
      "Columns in follows:\n",
      "['follower', 'followee ', 'created time', 'is follower active', 'followee Acc status']\n",
      "----------------------------------------------------------------------------------------------------\n",
      "Columns in comments:\n",
      "['id', 'comment', 'User  id', 'Photo id', 'created Timestamp', 'posted date', 'emoji used', 'Hashtags used count']\n",
      "----------------------------------------------------------------------------------------------------\n"
     ]
    }
   ],
   "source": [
    "# Function to display column names of each DataFrame\n",
    "def show_columns(Dataset):\n",
    "    for name, df in Dataset.items():\n",
    "        print(f\"Columns in {name}:\")\n",
    "        print(df.columns.tolist())  # Convert columns to a list for better readability\n",
    "        print(\"-\" * 100)\n",
    "show_columns(Dataset)"
   ]
  },
  {
   "cell_type": "code",
   "execution_count": 5,
   "id": "09d05d98-7c75-411a-892f-e09ab6e67aff",
   "metadata": {},
   "outputs": [
    {
     "name": "stdout",
     "output_type": "stream",
     "text": [
      " 'users' has 0 missing values.\n",
      " 'tags' has 0 missing values.\n",
      " 'photos' has 0 missing values.\n",
      " 'photo_tags' has 0 missing values.\n",
      " 'likes' has 0 missing values.\n",
      " 'follows' has 0 missing values.\n",
      " 'comments' has 0 missing values.\n"
     ]
    }
   ],
   "source": [
    "# Loop to check for null values\n",
    "for name, df in Dataset.items():\n",
    "    if isinstance(df, pd.DataFrame):  # Ensure it's a DataFrame\n",
    "        total_nulls = df.isnull().sum().sum()  # Count total null values in the DataFrame\n",
    "    print(f\" '{name}' has {total_nulls} missing values.\")"
   ]
  },
  {
   "cell_type": "markdown",
   "id": "e47e6ec2-6eeb-4267-89a8-c2bfe84dd139",
   "metadata": {
    "jp-MarkdownHeadingCollapsed": true
   },
   "source": [
    "<h3> Users Analysis</h3>"
   ]
  },
  {
   "cell_type": "code",
   "execution_count": 6,
   "id": "7a2dde10-618f-4844-a655-05426165e243",
   "metadata": {},
   "outputs": [
    {
     "data": {
      "text/html": [
       "<div>\n",
       "<style scoped>\n",
       "    .dataframe tbody tr th:only-of-type {\n",
       "        vertical-align: middle;\n",
       "    }\n",
       "\n",
       "    .dataframe tbody tr th {\n",
       "        vertical-align: top;\n",
       "    }\n",
       "\n",
       "    .dataframe thead th {\n",
       "        text-align: right;\n",
       "    }\n",
       "</style>\n",
       "<table border=\"1\" class=\"dataframe\">\n",
       "  <thead>\n",
       "    <tr style=\"text-align: right;\">\n",
       "      <th></th>\n",
       "      <th>id</th>\n",
       "      <th>name</th>\n",
       "      <th>created time</th>\n",
       "      <th>private/public</th>\n",
       "      <th>post count</th>\n",
       "      <th>Verified status</th>\n",
       "    </tr>\n",
       "  </thead>\n",
       "  <tbody>\n",
       "    <tr>\n",
       "      <th>0</th>\n",
       "      <td>1</td>\n",
       "      <td>Kenton_Kirlin</td>\n",
       "      <td>16-02-2017 18:22</td>\n",
       "      <td>yes</td>\n",
       "      <td>11</td>\n",
       "      <td>no</td>\n",
       "    </tr>\n",
       "    <tr>\n",
       "      <th>1</th>\n",
       "      <td>2</td>\n",
       "      <td>Andre_Purdy85</td>\n",
       "      <td>02-04-2017 17:11</td>\n",
       "      <td>no</td>\n",
       "      <td>7</td>\n",
       "      <td>no</td>\n",
       "    </tr>\n",
       "    <tr>\n",
       "      <th>2</th>\n",
       "      <td>3</td>\n",
       "      <td>Harley_Lind18</td>\n",
       "      <td>21-02-2017 11:12</td>\n",
       "      <td>no</td>\n",
       "      <td>2</td>\n",
       "      <td>no</td>\n",
       "    </tr>\n",
       "    <tr>\n",
       "      <th>3</th>\n",
       "      <td>4</td>\n",
       "      <td>Arely_Bogan63</td>\n",
       "      <td>13-08-2016 01:28</td>\n",
       "      <td>yes</td>\n",
       "      <td>1</td>\n",
       "      <td>no</td>\n",
       "    </tr>\n",
       "    <tr>\n",
       "      <th>4</th>\n",
       "      <td>5</td>\n",
       "      <td>Aniya_Hackett</td>\n",
       "      <td>07-12-2016 01:04</td>\n",
       "      <td>yes</td>\n",
       "      <td>3</td>\n",
       "      <td>no</td>\n",
       "    </tr>\n",
       "    <tr>\n",
       "      <th>...</th>\n",
       "      <td>...</td>\n",
       "      <td>...</td>\n",
       "      <td>...</td>\n",
       "      <td>...</td>\n",
       "      <td>...</td>\n",
       "      <td>...</td>\n",
       "    </tr>\n",
       "    <tr>\n",
       "      <th>95</th>\n",
       "      <td>96</td>\n",
       "      <td>Keenan.Schamberger60</td>\n",
       "      <td>28-08-2016 14:57</td>\n",
       "      <td>yes</td>\n",
       "      <td>687</td>\n",
       "      <td>no</td>\n",
       "    </tr>\n",
       "    <tr>\n",
       "      <th>96</th>\n",
       "      <td>97</td>\n",
       "      <td>Tomas.Beatty93</td>\n",
       "      <td>11-02-2017 11:38</td>\n",
       "      <td>yes</td>\n",
       "      <td>92</td>\n",
       "      <td>no</td>\n",
       "    </tr>\n",
       "    <tr>\n",
       "      <th>97</th>\n",
       "      <td>98</td>\n",
       "      <td>Imani_Nicolas17</td>\n",
       "      <td>31-01-2017 22:59</td>\n",
       "      <td>no</td>\n",
       "      <td>123</td>\n",
       "      <td>no</td>\n",
       "    </tr>\n",
       "    <tr>\n",
       "      <th>98</th>\n",
       "      <td>99</td>\n",
       "      <td>Alek_Watsica</td>\n",
       "      <td>10-12-2016 07:43</td>\n",
       "      <td>no</td>\n",
       "      <td>232</td>\n",
       "      <td>no</td>\n",
       "    </tr>\n",
       "    <tr>\n",
       "      <th>99</th>\n",
       "      <td>100</td>\n",
       "      <td>Javonte83</td>\n",
       "      <td>27-03-2017 22:06</td>\n",
       "      <td>yes</td>\n",
       "      <td>32</td>\n",
       "      <td>yes</td>\n",
       "    </tr>\n",
       "  </tbody>\n",
       "</table>\n",
       "<p>100 rows × 6 columns</p>\n",
       "</div>"
      ],
      "text/plain": [
       "     id                  name      created time private/public  post count  \\\n",
       "0     1         Kenton_Kirlin  16-02-2017 18:22            yes          11   \n",
       "1     2         Andre_Purdy85  02-04-2017 17:11             no           7   \n",
       "2     3         Harley_Lind18  21-02-2017 11:12             no           2   \n",
       "3     4         Arely_Bogan63  13-08-2016 01:28            yes           1   \n",
       "4     5         Aniya_Hackett  07-12-2016 01:04            yes           3   \n",
       "..  ...                   ...               ...            ...         ...   \n",
       "95   96  Keenan.Schamberger60  28-08-2016 14:57            yes         687   \n",
       "96   97        Tomas.Beatty93  11-02-2017 11:38            yes          92   \n",
       "97   98       Imani_Nicolas17  31-01-2017 22:59             no         123   \n",
       "98   99          Alek_Watsica  10-12-2016 07:43             no         232   \n",
       "99  100             Javonte83  27-03-2017 22:06            yes          32   \n",
       "\n",
       "   Verified status  \n",
       "0               no  \n",
       "1               no  \n",
       "2               no  \n",
       "3               no  \n",
       "4               no  \n",
       "..             ...  \n",
       "95              no  \n",
       "96              no  \n",
       "97              no  \n",
       "98              no  \n",
       "99             yes  \n",
       "\n",
       "[100 rows x 6 columns]"
      ]
     },
     "execution_count": 6,
     "metadata": {},
     "output_type": "execute_result"
    }
   ],
   "source": [
    "users"
   ]
  },
  {
   "cell_type": "code",
   "execution_count": 7,
   "id": "4f4e424b-a87f-404b-8131-7a1ac1530b3d",
   "metadata": {},
   "outputs": [
    {
     "data": {
      "text/plain": [
       "private/public\n",
       "yes    50\n",
       "no     50\n",
       "Name: count, dtype: int64"
      ]
     },
     "execution_count": 7,
     "metadata": {},
     "output_type": "execute_result"
    }
   ],
   "source": [
    "users[\"private/public\"].value_counts()"
   ]
  },
  {
   "cell_type": "code",
   "execution_count": 8,
   "id": "1cb16079-f1ed-4eaa-b6f4-4509e00b23bd",
   "metadata": {},
   "outputs": [
    {
     "data": {
      "text/plain": [
       "('Total Post is-', 2400)"
      ]
     },
     "execution_count": 8,
     "metadata": {},
     "output_type": "execute_result"
    }
   ],
   "source": [
    "'Total Post is-',users[\"post count\"].max()"
   ]
  },
  {
   "cell_type": "code",
   "execution_count": 91,
   "id": "27b1aa7a-6a2d-4ecb-8040-2c312c52a4da",
   "metadata": {},
   "outputs": [
    {
     "data": {
      "image/png": "[encoded data removed]",
      "text/plain": [
       "<Figure size 640x480 with 1 Axes>"
      ]
     },
     "metadata": {},
     "output_type": "display_data"
    }
   ],
   "source": [
    "plt.hist(users[\"post count\"], range = [10, 2500])\n",
    "plt.xlabel(\"Post count\")\n",
    "plt.ylabel(\"Count\")\n",
    "\n",
    "plt.show()"
   ]
  },
  {
   "cell_type": "code",
   "execution_count": 92,
   "id": "5c2ed646-512d-4def-a157-f3dc50f2c424",
   "metadata": {},
   "outputs": [
    {
     "data": {
      "text/plain": [
       "Verified status\n",
       "no     92\n",
       "yes     8\n",
       "Name: count, dtype: int64"
      ]
     },
     "execution_count": 92,
     "metadata": {},
     "output_type": "execute_result"
    }
   ],
   "source": [
    "users[\"Verified status\"].value_counts()"
   ]
  },
  {
   "cell_type": "markdown",
   "id": "dacc1871-d0f2-4228-8cb8-ddb22c27857e",
   "metadata": {
    "jp-MarkdownHeadingCollapsed": true
   },
   "source": [
    "<h3>tags Analysis</h3>"
   ]
  },
  {
   "cell_type": "code",
   "execution_count": 11,
   "id": "b3e14250-6fe6-420c-a90d-2cdefe6ead6a",
   "metadata": {},
   "outputs": [
    {
     "data": {
      "text/html": [
       "<div>\n",
       "<style scoped>\n",
       "    .dataframe tbody tr th:only-of-type {\n",
       "        vertical-align: middle;\n",
       "    }\n",
       "\n",
       "    .dataframe tbody tr th {\n",
       "        vertical-align: top;\n",
       "    }\n",
       "\n",
       "    .dataframe thead th {\n",
       "        text-align: right;\n",
       "    }\n",
       "</style>\n",
       "<table border=\"1\" class=\"dataframe\">\n",
       "  <thead>\n",
       "    <tr style=\"text-align: right;\">\n",
       "      <th></th>\n",
       "      <th>id</th>\n",
       "      <th>tag text</th>\n",
       "      <th>created time</th>\n",
       "      <th>location</th>\n",
       "    </tr>\n",
       "  </thead>\n",
       "  <tbody>\n",
       "    <tr>\n",
       "      <th>0</th>\n",
       "      <td>1</td>\n",
       "      <td>sunset</td>\n",
       "      <td>13-04-2023 08:04</td>\n",
       "      <td>florida</td>\n",
       "    </tr>\n",
       "    <tr>\n",
       "      <th>1</th>\n",
       "      <td>2</td>\n",
       "      <td>photography</td>\n",
       "      <td>13-04-2023 08:04</td>\n",
       "      <td>washington DC</td>\n",
       "    </tr>\n",
       "    <tr>\n",
       "      <th>2</th>\n",
       "      <td>3</td>\n",
       "      <td>sunrise</td>\n",
       "      <td>13-04-2023 08:04</td>\n",
       "      <td>new york</td>\n",
       "    </tr>\n",
       "    <tr>\n",
       "      <th>3</th>\n",
       "      <td>4</td>\n",
       "      <td>landscape</td>\n",
       "      <td>13-04-2023 08:04</td>\n",
       "      <td>london</td>\n",
       "    </tr>\n",
       "    <tr>\n",
       "      <th>4</th>\n",
       "      <td>5</td>\n",
       "      <td>food</td>\n",
       "      <td>13-04-2023 08:04</td>\n",
       "      <td>brazil</td>\n",
       "    </tr>\n",
       "    <tr>\n",
       "      <th>5</th>\n",
       "      <td>6</td>\n",
       "      <td>foodie</td>\n",
       "      <td>13-04-2023 08:04</td>\n",
       "      <td>japan</td>\n",
       "    </tr>\n",
       "    <tr>\n",
       "      <th>6</th>\n",
       "      <td>7</td>\n",
       "      <td>delicious</td>\n",
       "      <td>13-04-2023 08:04</td>\n",
       "      <td>Mumbai</td>\n",
       "    </tr>\n",
       "    <tr>\n",
       "      <th>7</th>\n",
       "      <td>8</td>\n",
       "      <td>beauty</td>\n",
       "      <td>13-04-2023 08:04</td>\n",
       "      <td>bangalore</td>\n",
       "    </tr>\n",
       "    <tr>\n",
       "      <th>8</th>\n",
       "      <td>9</td>\n",
       "      <td>stunning</td>\n",
       "      <td>13-04-2023 08:04</td>\n",
       "      <td>florida</td>\n",
       "    </tr>\n",
       "    <tr>\n",
       "      <th>9</th>\n",
       "      <td>10</td>\n",
       "      <td>dreamy</td>\n",
       "      <td>13-04-2023 08:04</td>\n",
       "      <td>washington DC</td>\n",
       "    </tr>\n",
       "    <tr>\n",
       "      <th>10</th>\n",
       "      <td>11</td>\n",
       "      <td>lol</td>\n",
       "      <td>13-04-2023 08:04</td>\n",
       "      <td>new york</td>\n",
       "    </tr>\n",
       "    <tr>\n",
       "      <th>11</th>\n",
       "      <td>12</td>\n",
       "      <td>happy</td>\n",
       "      <td>13-04-2023 08:04</td>\n",
       "      <td>london</td>\n",
       "    </tr>\n",
       "    <tr>\n",
       "      <th>12</th>\n",
       "      <td>13</td>\n",
       "      <td>fun</td>\n",
       "      <td>13-04-2023 08:04</td>\n",
       "      <td>brazil</td>\n",
       "    </tr>\n",
       "    <tr>\n",
       "      <th>13</th>\n",
       "      <td>14</td>\n",
       "      <td>style</td>\n",
       "      <td>13-04-2023 08:04</td>\n",
       "      <td>japan</td>\n",
       "    </tr>\n",
       "    <tr>\n",
       "      <th>14</th>\n",
       "      <td>15</td>\n",
       "      <td>hair</td>\n",
       "      <td>13-04-2023 08:04</td>\n",
       "      <td>Mumbai</td>\n",
       "    </tr>\n",
       "    <tr>\n",
       "      <th>15</th>\n",
       "      <td>16</td>\n",
       "      <td>fashion</td>\n",
       "      <td>13-04-2023 08:04</td>\n",
       "      <td>bangalore</td>\n",
       "    </tr>\n",
       "    <tr>\n",
       "      <th>16</th>\n",
       "      <td>17</td>\n",
       "      <td>party</td>\n",
       "      <td>13-04-2023 08:04</td>\n",
       "      <td>florida</td>\n",
       "    </tr>\n",
       "    <tr>\n",
       "      <th>17</th>\n",
       "      <td>18</td>\n",
       "      <td>concert</td>\n",
       "      <td>13-04-2023 08:04</td>\n",
       "      <td>washington DC</td>\n",
       "    </tr>\n",
       "    <tr>\n",
       "      <th>18</th>\n",
       "      <td>19</td>\n",
       "      <td>drunk</td>\n",
       "      <td>13-04-2023 08:04</td>\n",
       "      <td>new york</td>\n",
       "    </tr>\n",
       "    <tr>\n",
       "      <th>19</th>\n",
       "      <td>20</td>\n",
       "      <td>beach</td>\n",
       "      <td>13-04-2023 08:04</td>\n",
       "      <td>london</td>\n",
       "    </tr>\n",
       "    <tr>\n",
       "      <th>20</th>\n",
       "      <td>21</td>\n",
       "      <td>smile</td>\n",
       "      <td>13-04-2023 08:04</td>\n",
       "      <td>australia</td>\n",
       "    </tr>\n",
       "  </tbody>\n",
       "</table>\n",
       "</div>"
      ],
      "text/plain": [
       "    id     tag text      created time       location\n",
       "0    1       sunset  13-04-2023 08:04        florida\n",
       "1    2  photography  13-04-2023 08:04  washington DC\n",
       "2    3      sunrise  13-04-2023 08:04       new york\n",
       "3    4    landscape  13-04-2023 08:04         london\n",
       "4    5         food  13-04-2023 08:04         brazil\n",
       "5    6       foodie  13-04-2023 08:04          japan\n",
       "6    7    delicious  13-04-2023 08:04         Mumbai\n",
       "7    8       beauty  13-04-2023 08:04      bangalore\n",
       "8    9     stunning  13-04-2023 08:04        florida\n",
       "9   10       dreamy  13-04-2023 08:04  washington DC\n",
       "10  11          lol  13-04-2023 08:04       new york\n",
       "11  12        happy  13-04-2023 08:04         london\n",
       "12  13          fun  13-04-2023 08:04         brazil\n",
       "13  14        style  13-04-2023 08:04          japan\n",
       "14  15         hair  13-04-2023 08:04         Mumbai\n",
       "15  16      fashion  13-04-2023 08:04      bangalore\n",
       "16  17        party  13-04-2023 08:04        florida\n",
       "17  18      concert  13-04-2023 08:04  washington DC\n",
       "18  19        drunk  13-04-2023 08:04       new york\n",
       "19  20        beach  13-04-2023 08:04         london\n",
       "20  21        smile  13-04-2023 08:04      australia"
      ]
     },
     "execution_count": 11,
     "metadata": {},
     "output_type": "execute_result"
    }
   ],
   "source": [
    "tags"
   ]
  },
  {
   "cell_type": "code",
   "execution_count": 12,
   "id": "a06ec3ca-69cf-4bba-a1c0-5e5038a17b42",
   "metadata": {},
   "outputs": [
    {
     "data": {
      "text/plain": [
       "location\n",
       "florida          3\n",
       "washington DC    3\n",
       "new york         3\n",
       "london           3\n",
       "brazil           2\n",
       "japan            2\n",
       "Mumbai           2\n",
       "bangalore        2\n",
       "australia        1\n",
       "Name: count, dtype: int64"
      ]
     },
     "execution_count": 12,
     "metadata": {},
     "output_type": "execute_result"
    }
   ],
   "source": [
    "tags[\"location\"].value_counts()"
   ]
  },
  {
   "cell_type": "code",
   "execution_count": 13,
   "id": "e1ec5c67-b952-4279-976f-0a820a58578b",
   "metadata": {},
   "outputs": [
    {
     "data": {
      "text/plain": [
       "tag text\n",
       "sunset         1\n",
       "happy          1\n",
       "beach          1\n",
       "drunk          1\n",
       "concert        1\n",
       "party          1\n",
       "fashion        1\n",
       "hair           1\n",
       "style          1\n",
       "fun            1\n",
       "lol            1\n",
       "photography    1\n",
       "dreamy         1\n",
       "stunning       1\n",
       "beauty         1\n",
       "delicious      1\n",
       "foodie         1\n",
       "food           1\n",
       "landscape      1\n",
       "sunrise        1\n",
       "smile          1\n",
       "Name: count, dtype: int64"
      ]
     },
     "execution_count": 13,
     "metadata": {},
     "output_type": "execute_result"
    }
   ],
   "source": [
    "tags[\"tag text\"].value_counts()"
   ]
  },
  {
   "cell_type": "markdown",
   "id": "57b0cdcf-98d3-4744-b379-39fa7aaff964",
   "metadata": {
    "jp-MarkdownHeadingCollapsed": true
   },
   "source": [
    "<h3> Photos Analysis</h3>"
   ]
  },
  {
   "cell_type": "code",
   "execution_count": 14,
   "id": "0f1776d5-4e3e-4a2e-836a-04e2f35df982",
   "metadata": {},
   "outputs": [
    {
     "data": {
      "text/html": [
       "<div>\n",
       "<style scoped>\n",
       "    .dataframe tbody tr th:only-of-type {\n",
       "        vertical-align: middle;\n",
       "    }\n",
       "\n",
       "    .dataframe tbody tr th {\n",
       "        vertical-align: top;\n",
       "    }\n",
       "\n",
       "    .dataframe thead th {\n",
       "        text-align: right;\n",
       "    }\n",
       "</style>\n",
       "<table border=\"1\" class=\"dataframe\">\n",
       "  <thead>\n",
       "    <tr style=\"text-align: right;\">\n",
       "      <th></th>\n",
       "      <th>id</th>\n",
       "      <th>image link</th>\n",
       "      <th>user ID</th>\n",
       "      <th>created dat</th>\n",
       "      <th>Insta filter used</th>\n",
       "      <th>photo type</th>\n",
       "    </tr>\n",
       "  </thead>\n",
       "  <tbody>\n",
       "    <tr>\n",
       "      <th>0</th>\n",
       "      <td>1</td>\n",
       "      <td>http://elijah.biz</td>\n",
       "      <td>1</td>\n",
       "      <td>13-04-2023 08:04</td>\n",
       "      <td>yes</td>\n",
       "      <td>photo</td>\n",
       "    </tr>\n",
       "    <tr>\n",
       "      <th>1</th>\n",
       "      <td>2</td>\n",
       "      <td>https://shanon.org</td>\n",
       "      <td>1</td>\n",
       "      <td>13-04-2023 08:04</td>\n",
       "      <td>no</td>\n",
       "      <td>photo</td>\n",
       "    </tr>\n",
       "    <tr>\n",
       "      <th>2</th>\n",
       "      <td>3</td>\n",
       "      <td>http://vicky.biz</td>\n",
       "      <td>1</td>\n",
       "      <td>13-04-2023 08:04</td>\n",
       "      <td>no</td>\n",
       "      <td>photo</td>\n",
       "    </tr>\n",
       "    <tr>\n",
       "      <th>3</th>\n",
       "      <td>4</td>\n",
       "      <td>http://oleta.net</td>\n",
       "      <td>1</td>\n",
       "      <td>13-04-2023 08:04</td>\n",
       "      <td>no</td>\n",
       "      <td>photo</td>\n",
       "    </tr>\n",
       "    <tr>\n",
       "      <th>4</th>\n",
       "      <td>5</td>\n",
       "      <td>https://jennings.biz</td>\n",
       "      <td>1</td>\n",
       "      <td>13-04-2023 08:04</td>\n",
       "      <td>yes</td>\n",
       "      <td>photo</td>\n",
       "    </tr>\n",
       "    <tr>\n",
       "      <th>...</th>\n",
       "      <td>...</td>\n",
       "      <td>...</td>\n",
       "      <td>...</td>\n",
       "      <td>...</td>\n",
       "      <td>...</td>\n",
       "      <td>...</td>\n",
       "    </tr>\n",
       "    <tr>\n",
       "      <th>252</th>\n",
       "      <td>253</td>\n",
       "      <td>http://ryleigh.info</td>\n",
       "      <td>99</td>\n",
       "      <td>13-04-2023 08:04</td>\n",
       "      <td>yes</td>\n",
       "      <td>photo</td>\n",
       "    </tr>\n",
       "    <tr>\n",
       "      <th>253</th>\n",
       "      <td>254</td>\n",
       "      <td>https://darien.name</td>\n",
       "      <td>99</td>\n",
       "      <td>13-04-2023 08:04</td>\n",
       "      <td>no</td>\n",
       "      <td>carousel</td>\n",
       "    </tr>\n",
       "    <tr>\n",
       "      <th>254</th>\n",
       "      <td>255</td>\n",
       "      <td>https://xzavier.org</td>\n",
       "      <td>99</td>\n",
       "      <td>13-04-2023 08:04</td>\n",
       "      <td>no</td>\n",
       "      <td>video</td>\n",
       "    </tr>\n",
       "    <tr>\n",
       "      <th>255</th>\n",
       "      <td>256</td>\n",
       "      <td>https://kaela.name</td>\n",
       "      <td>100</td>\n",
       "      <td>13-04-2023 08:04</td>\n",
       "      <td>no</td>\n",
       "      <td>photo</td>\n",
       "    </tr>\n",
       "    <tr>\n",
       "      <th>256</th>\n",
       "      <td>257</td>\n",
       "      <td>http://dedrick.info</td>\n",
       "      <td>100</td>\n",
       "      <td>13-04-2023 08:04</td>\n",
       "      <td>yes</td>\n",
       "      <td>photo</td>\n",
       "    </tr>\n",
       "  </tbody>\n",
       "</table>\n",
       "<p>257 rows × 6 columns</p>\n",
       "</div>"
      ],
      "text/plain": [
       "      id            image link  user ID       created dat Insta filter used  \\\n",
       "0      1     http://elijah.biz        1  13-04-2023 08:04               yes   \n",
       "1      2    https://shanon.org        1  13-04-2023 08:04                no   \n",
       "2      3      http://vicky.biz        1  13-04-2023 08:04                no   \n",
       "3      4      http://oleta.net        1  13-04-2023 08:04                no   \n",
       "4      5  https://jennings.biz        1  13-04-2023 08:04               yes   \n",
       "..   ...                   ...      ...               ...               ...   \n",
       "252  253   http://ryleigh.info       99  13-04-2023 08:04               yes   \n",
       "253  254   https://darien.name       99  13-04-2023 08:04                no   \n",
       "254  255   https://xzavier.org       99  13-04-2023 08:04                no   \n",
       "255  256    https://kaela.name      100  13-04-2023 08:04                no   \n",
       "256  257   http://dedrick.info      100  13-04-2023 08:04               yes   \n",
       "\n",
       "    photo type  \n",
       "0        photo  \n",
       "1        photo  \n",
       "2        photo  \n",
       "3        photo  \n",
       "4        photo  \n",
       "..         ...  \n",
       "252      photo  \n",
       "253   carousel  \n",
       "254      video  \n",
       "255      photo  \n",
       "256      photo  \n",
       "\n",
       "[257 rows x 6 columns]"
      ]
     },
     "execution_count": 14,
     "metadata": {},
     "output_type": "execute_result"
    }
   ],
   "source": [
    "photos"
   ]
  },
  {
   "cell_type": "code",
   "execution_count": 15,
   "id": "deb0ff4d-5613-4a90-ac95-ed893659a54e",
   "metadata": {},
   "outputs": [
    {
     "data": {
      "text/plain": [
       "Insta filter used\n",
       "yes    142\n",
       "no     115\n",
       "Name: count, dtype: int64"
      ]
     },
     "execution_count": 15,
     "metadata": {},
     "output_type": "execute_result"
    }
   ],
   "source": [
    "photos[\"Insta filter used\"].value_counts()"
   ]
  },
  {
   "cell_type": "code",
   "execution_count": 88,
   "id": "c7adde00-da3b-47ef-8e53-a9ab3f0d1972",
   "metadata": {},
   "outputs": [
    {
     "data": {
      "image/png": "[encoded data removed]",
      "text/plain": [
       "<Figure size 640x480 with 1 Axes>"
      ]
     },
     "metadata": {},
     "output_type": "display_data"
    }
   ],
   "source": [
    "photos[\"Insta filter used\"].value_counts().plot(kind=\"bar\", \n",
    "                                                xlabel=\"Was Insta Filter Used\", \n",
    "                                                ylabel=\"Count\",\n",
    "                                               color=['#ac621a','#ffe954'],\n",
    "                                               edgecolor='black')\n",
    "plt.show()"
   ]
  },
  {
   "cell_type": "code",
   "execution_count": 17,
   "id": "c9302437-6ce1-4fa3-8699-19051426fd3b",
   "metadata": {},
   "outputs": [
    {
     "data": {
      "text/plain": [
       "photo type\n",
       "photo       155\n",
       "video        52\n",
       "carousel     50\n",
       "Name: count, dtype: int64"
      ]
     },
     "execution_count": 17,
     "metadata": {},
     "output_type": "execute_result"
    }
   ],
   "source": [
    "photos[\"photo type\"].value_counts()"
   ]
  },
  {
   "cell_type": "code",
   "execution_count": 86,
   "id": "2842fd61-27f5-4b3e-a3bf-80fb00b10ef5",
   "metadata": {},
   "outputs": [
    {
     "data": {
      "image/png": "[encoded data removed]",
      "text/plain": [
       "<Figure size 640x480 with 1 Axes>"
      ]
     },
     "metadata": {},
     "output_type": "display_data"
    }
   ],
   "source": [
    "photos[\"photo type\"].value_counts().plot(kind='bar',\n",
    "                                         xlabel=\"Photo Types\", \n",
    "                                         ylabel=\"count\",\n",
    "                                        color=['#fdae61','#fbdc05','#16f80e'],\n",
    "                                        edgecolor=\"black\")\n",
    "plt.show()"
   ]
  },
  {
   "cell_type": "code",
   "execution_count": 19,
   "id": "ba4e001a-065a-41c4-b21b-65beafb4eb1b",
   "metadata": {},
   "outputs": [
    {
     "data": {
      "text/plain": [
       "created dat\n",
       "13-04-2023 08:04    257\n",
       "Name: count, dtype: int64"
      ]
     },
     "execution_count": 19,
     "metadata": {},
     "output_type": "execute_result"
    }
   ],
   "source": [
    "photos[\"created dat\"].value_counts()"
   ]
  },
  {
   "cell_type": "markdown",
   "id": "53081e25-4c3e-408d-971a-21a4f329ee79",
   "metadata": {
    "jp-MarkdownHeadingCollapsed": true
   },
   "source": [
    "<h3>photo_tags Analysis</h3>"
   ]
  },
  {
   "cell_type": "code",
   "execution_count": 20,
   "id": "604da2ac-f5f5-45e2-9697-8e0339a7b932",
   "metadata": {},
   "outputs": [
    {
     "data": {
      "text/html": [
       "<div>\n",
       "<style scoped>\n",
       "    .dataframe tbody tr th:only-of-type {\n",
       "        vertical-align: middle;\n",
       "    }\n",
       "\n",
       "    .dataframe tbody tr th {\n",
       "        vertical-align: top;\n",
       "    }\n",
       "\n",
       "    .dataframe thead th {\n",
       "        text-align: right;\n",
       "    }\n",
       "</style>\n",
       "<table border=\"1\" class=\"dataframe\">\n",
       "  <thead>\n",
       "    <tr style=\"text-align: right;\">\n",
       "      <th></th>\n",
       "      <th>photo</th>\n",
       "      <th>tag ID</th>\n",
       "      <th>user id</th>\n",
       "    </tr>\n",
       "  </thead>\n",
       "  <tbody>\n",
       "    <tr>\n",
       "      <th>0</th>\n",
       "      <td>1</td>\n",
       "      <td>13</td>\n",
       "      <td>1</td>\n",
       "    </tr>\n",
       "    <tr>\n",
       "      <th>1</th>\n",
       "      <td>1</td>\n",
       "      <td>17</td>\n",
       "      <td>1</td>\n",
       "    </tr>\n",
       "    <tr>\n",
       "      <th>2</th>\n",
       "      <td>1</td>\n",
       "      <td>18</td>\n",
       "      <td>2</td>\n",
       "    </tr>\n",
       "    <tr>\n",
       "      <th>3</th>\n",
       "      <td>1</td>\n",
       "      <td>19</td>\n",
       "      <td>2</td>\n",
       "    </tr>\n",
       "    <tr>\n",
       "      <th>4</th>\n",
       "      <td>1</td>\n",
       "      <td>21</td>\n",
       "      <td>3</td>\n",
       "    </tr>\n",
       "    <tr>\n",
       "      <th>...</th>\n",
       "      <td>...</td>\n",
       "      <td>...</td>\n",
       "      <td>...</td>\n",
       "    </tr>\n",
       "    <tr>\n",
       "      <th>496</th>\n",
       "      <td>254</td>\n",
       "      <td>4</td>\n",
       "      <td>6</td>\n",
       "    </tr>\n",
       "    <tr>\n",
       "      <th>497</th>\n",
       "      <td>254</td>\n",
       "      <td>20</td>\n",
       "      <td>6</td>\n",
       "    </tr>\n",
       "    <tr>\n",
       "      <th>498</th>\n",
       "      <td>257</td>\n",
       "      <td>13</td>\n",
       "      <td>6</td>\n",
       "    </tr>\n",
       "    <tr>\n",
       "      <th>499</th>\n",
       "      <td>257</td>\n",
       "      <td>18</td>\n",
       "      <td>6</td>\n",
       "    </tr>\n",
       "    <tr>\n",
       "      <th>500</th>\n",
       "      <td>257</td>\n",
       "      <td>19</td>\n",
       "      <td>6</td>\n",
       "    </tr>\n",
       "  </tbody>\n",
       "</table>\n",
       "<p>501 rows × 3 columns</p>\n",
       "</div>"
      ],
      "text/plain": [
       "     photo  tag ID  user id\n",
       "0        1      13        1\n",
       "1        1      17        1\n",
       "2        1      18        2\n",
       "3        1      19        2\n",
       "4        1      21        3\n",
       "..     ...     ...      ...\n",
       "496    254       4        6\n",
       "497    254      20        6\n",
       "498    257      13        6\n",
       "499    257      18        6\n",
       "500    257      19        6\n",
       "\n",
       "[501 rows x 3 columns]"
      ]
     },
     "execution_count": 20,
     "metadata": {},
     "output_type": "execute_result"
    }
   ],
   "source": [
    "photo_tags"
   ]
  },
  {
   "cell_type": "code",
   "execution_count": 80,
   "id": "958bdb87-d6a1-426e-80f3-40c3ca79da20",
   "metadata": {},
   "outputs": [
    {
     "data": {
      "image/png": "[encoded data removed]",
      "text/plain": [
       "<Figure size 640x480 with 1 Axes>"
      ]
     },
     "metadata": {},
     "output_type": "display_data"
    }
   ],
   "source": [
    "photo_tags[\"photo\"].value_counts().plot(kind='hist',\n",
    "                                       color=['green'],\n",
    "                                        edgecolor='black')\n",
    "plt.show()"
   ]
  },
  {
   "cell_type": "markdown",
   "id": "edb4794f-6090-4b55-8238-fcad0af6556a",
   "metadata": {
    "jp-MarkdownHeadingCollapsed": true
   },
   "source": [
    "<h3>likes Analysis</h3>"
   ]
  },
  {
   "cell_type": "code",
   "execution_count": 29,
   "id": "97119d13-9cf2-4671-91b7-843529c04b16",
   "metadata": {},
   "outputs": [
    {
     "data": {
      "text/html": [
       "<div>\n",
       "<style scoped>\n",
       "    .dataframe tbody tr th:only-of-type {\n",
       "        vertical-align: middle;\n",
       "    }\n",
       "\n",
       "    .dataframe tbody tr th {\n",
       "        vertical-align: top;\n",
       "    }\n",
       "\n",
       "    .dataframe thead th {\n",
       "        text-align: right;\n",
       "    }\n",
       "</style>\n",
       "<table border=\"1\" class=\"dataframe\">\n",
       "  <thead>\n",
       "    <tr style=\"text-align: right;\">\n",
       "      <th></th>\n",
       "      <th>user</th>\n",
       "      <th>photo</th>\n",
       "      <th>created time</th>\n",
       "      <th>following or not</th>\n",
       "      <th>like type</th>\n",
       "    </tr>\n",
       "  </thead>\n",
       "  <tbody>\n",
       "    <tr>\n",
       "      <th>0</th>\n",
       "      <td>2</td>\n",
       "      <td>1</td>\n",
       "      <td>13-04-2023 08:04</td>\n",
       "      <td>yes</td>\n",
       "      <td>heart emoji</td>\n",
       "    </tr>\n",
       "    <tr>\n",
       "      <th>1</th>\n",
       "      <td>2</td>\n",
       "      <td>4</td>\n",
       "      <td>13-04-2023 08:04</td>\n",
       "      <td>no</td>\n",
       "      <td>thumbs up</td>\n",
       "    </tr>\n",
       "    <tr>\n",
       "      <th>2</th>\n",
       "      <td>2</td>\n",
       "      <td>8</td>\n",
       "      <td>13-04-2023 08:04</td>\n",
       "      <td>yes</td>\n",
       "      <td>laughing</td>\n",
       "    </tr>\n",
       "    <tr>\n",
       "      <th>3</th>\n",
       "      <td>2</td>\n",
       "      <td>9</td>\n",
       "      <td>13-04-2023 08:04</td>\n",
       "      <td>no</td>\n",
       "      <td>fire</td>\n",
       "    </tr>\n",
       "    <tr>\n",
       "      <th>4</th>\n",
       "      <td>2</td>\n",
       "      <td>10</td>\n",
       "      <td>13-04-2023 08:04</td>\n",
       "      <td>yes</td>\n",
       "      <td>clap</td>\n",
       "    </tr>\n",
       "    <tr>\n",
       "      <th>...</th>\n",
       "      <td>...</td>\n",
       "      <td>...</td>\n",
       "      <td>...</td>\n",
       "      <td>...</td>\n",
       "      <td>...</td>\n",
       "    </tr>\n",
       "    <tr>\n",
       "      <th>8777</th>\n",
       "      <td>100</td>\n",
       "      <td>245</td>\n",
       "      <td>13-04-2023 08:04</td>\n",
       "      <td>no</td>\n",
       "      <td>clap</td>\n",
       "    </tr>\n",
       "    <tr>\n",
       "      <th>8778</th>\n",
       "      <td>100</td>\n",
       "      <td>246</td>\n",
       "      <td>13-04-2023 08:04</td>\n",
       "      <td>yes</td>\n",
       "      <td>heart emoji</td>\n",
       "    </tr>\n",
       "    <tr>\n",
       "      <th>8779</th>\n",
       "      <td>100</td>\n",
       "      <td>248</td>\n",
       "      <td>13-04-2023 08:04</td>\n",
       "      <td>yes</td>\n",
       "      <td>thumbs up</td>\n",
       "    </tr>\n",
       "    <tr>\n",
       "      <th>8780</th>\n",
       "      <td>100</td>\n",
       "      <td>249</td>\n",
       "      <td>13-04-2023 08:04</td>\n",
       "      <td>no</td>\n",
       "      <td>laughing</td>\n",
       "    </tr>\n",
       "    <tr>\n",
       "      <th>8781</th>\n",
       "      <td>100</td>\n",
       "      <td>255</td>\n",
       "      <td>13-04-2023 08:04</td>\n",
       "      <td>yes</td>\n",
       "      <td>fire</td>\n",
       "    </tr>\n",
       "  </tbody>\n",
       "</table>\n",
       "<p>8782 rows × 5 columns</p>\n",
       "</div>"
      ],
      "text/plain": [
       "      user   photo      created time following or not    like type\n",
       "0         2      1  13-04-2023 08:04              yes  heart emoji\n",
       "1         2      4  13-04-2023 08:04               no    thumbs up\n",
       "2         2      8  13-04-2023 08:04              yes     laughing\n",
       "3         2      9  13-04-2023 08:04               no         fire\n",
       "4         2     10  13-04-2023 08:04              yes         clap\n",
       "...     ...    ...               ...              ...          ...\n",
       "8777    100    245  13-04-2023 08:04               no         clap\n",
       "8778    100    246  13-04-2023 08:04              yes  heart emoji\n",
       "8779    100    248  13-04-2023 08:04              yes    thumbs up\n",
       "8780    100    249  13-04-2023 08:04               no     laughing\n",
       "8781    100    255  13-04-2023 08:04              yes         fire\n",
       "\n",
       "[8782 rows x 5 columns]"
      ]
     },
     "execution_count": 29,
     "metadata": {},
     "output_type": "execute_result"
    }
   ],
   "source": [
    "likes"
   ]
  },
  {
   "cell_type": "code",
   "execution_count": 37,
   "id": "f23ad2e7-1b55-4497-b2d6-41993e1c13ec",
   "metadata": {},
   "outputs": [
    {
     "data": {
      "text/plain": [
       "like type\n",
       "clap           1754\n",
       "heart emoji    1751\n",
       "thumbs up      1751\n",
       "laughing       1751\n",
       "fire           1751\n",
       "single tap       12\n",
       "double tap       12\n",
       "Name: count, dtype: int64"
      ]
     },
     "execution_count": 37,
     "metadata": {},
     "output_type": "execute_result"
    }
   ],
   "source": [
    "count_like = likes[\"like type\"].value_counts()\n",
    "count_like"
   ]
  },
  {
   "cell_type": "code",
   "execution_count": 71,
   "id": "f8b4bb12-28e1-440c-8a71-087c1ea87483",
   "metadata": {},
   "outputs": [
    {
     "data": {
      "image/png": "[encoded data removed]",
      "text/plain": [
       "<Figure size 640x480 with 1 Axes>"
      ]
     },
     "metadata": {},
     "output_type": "display_data"
    }
   ],
   "source": [
    "count_like.plot(kind=\"bar\",\n",
    "                xlabel=\"Like Type\", \n",
    "                ylabel=\"count of likes\",\n",
    "                color=['#1f77b4', '#ff7f0e','#5d1ee6','#9cf00c','#ec0cf0','#f00c72','#f00c14'],\n",
    "                edgecolor='black')\n",
    "plt.show()"
   ]
  },
  {
   "cell_type": "code",
   "execution_count": 32,
   "id": "09c7ba99-f59b-41c1-ad23-d322961f7dc5",
   "metadata": {},
   "outputs": [
    {
     "data": {
      "text/plain": [
       "following or not\n",
       "yes    5853\n",
       "no     2929\n",
       "Name: count, dtype: int64"
      ]
     },
     "execution_count": 32,
     "metadata": {},
     "output_type": "execute_result"
    }
   ],
   "source": [
    "count_follow=likes[\"following or not\"].value_counts()\n",
    "count_follow"
   ]
  },
  {
   "cell_type": "code",
   "execution_count": 70,
   "id": "bbbb06f4-9651-4a1d-a64e-eaf5f8699951",
   "metadata": {},
   "outputs": [
    {
     "data": {
      "image/png": "[encoded data removed]",
      "text/plain": [
       "<Figure size 640x480 with 1 Axes>"
      ]
     },
     "metadata": {},
     "output_type": "display_data"
    }
   ],
   "source": [
    "count_follow.plot(kind=\"bar\",xlabel=\"Following or not\", ylabel=\"count of follow\",color=['#e6601e', '#5d1ee6'],\n",
    "    edgecolor='black')\n",
    "plt.show()"
   ]
  },
  {
   "cell_type": "code",
   "execution_count": null,
   "id": "d3a184d1-980d-4fa6-a918-6fc9e751e089",
   "metadata": {},
   "outputs": [],
   "source": []
  },
  {
   "cell_type": "markdown",
   "id": "8b2ec754-54f2-4866-9596-8caeb0ea0a72",
   "metadata": {
    "jp-MarkdownHeadingCollapsed": true
   },
   "source": [
    "<h3>follows Analysis</h3>"
   ]
  },
  {
   "cell_type": "code",
   "execution_count": 54,
   "id": "0fcca658-515b-4db9-95a5-2f03ce42baf1",
   "metadata": {},
   "outputs": [
    {
     "data": {
      "text/html": [
       "<div>\n",
       "<style scoped>\n",
       "    .dataframe tbody tr th:only-of-type {\n",
       "        vertical-align: middle;\n",
       "    }\n",
       "\n",
       "    .dataframe tbody tr th {\n",
       "        vertical-align: top;\n",
       "    }\n",
       "\n",
       "    .dataframe thead th {\n",
       "        text-align: right;\n",
       "    }\n",
       "</style>\n",
       "<table border=\"1\" class=\"dataframe\">\n",
       "  <thead>\n",
       "    <tr style=\"text-align: right;\">\n",
       "      <th></th>\n",
       "      <th>follower</th>\n",
       "      <th>followee</th>\n",
       "      <th>created time</th>\n",
       "      <th>is follower active</th>\n",
       "      <th>followee Acc status</th>\n",
       "    </tr>\n",
       "  </thead>\n",
       "  <tbody>\n",
       "    <tr>\n",
       "      <th>0</th>\n",
       "      <td>2</td>\n",
       "      <td>1</td>\n",
       "      <td>13-04-2023 08:04</td>\n",
       "      <td>1</td>\n",
       "      <td>private</td>\n",
       "    </tr>\n",
       "    <tr>\n",
       "      <th>1</th>\n",
       "      <td>2</td>\n",
       "      <td>3</td>\n",
       "      <td>13-04-2023 08:04</td>\n",
       "      <td>0</td>\n",
       "      <td>private</td>\n",
       "    </tr>\n",
       "    <tr>\n",
       "      <th>2</th>\n",
       "      <td>2</td>\n",
       "      <td>4</td>\n",
       "      <td>13-04-2023 08:04</td>\n",
       "      <td>0</td>\n",
       "      <td>public</td>\n",
       "    </tr>\n",
       "    <tr>\n",
       "      <th>3</th>\n",
       "      <td>2</td>\n",
       "      <td>5</td>\n",
       "      <td>13-04-2023 08:04</td>\n",
       "      <td>0</td>\n",
       "      <td>private</td>\n",
       "    </tr>\n",
       "    <tr>\n",
       "      <th>4</th>\n",
       "      <td>2</td>\n",
       "      <td>6</td>\n",
       "      <td>13-04-2023 08:04</td>\n",
       "      <td>1</td>\n",
       "      <td>private</td>\n",
       "    </tr>\n",
       "    <tr>\n",
       "      <th>...</th>\n",
       "      <td>...</td>\n",
       "      <td>...</td>\n",
       "      <td>...</td>\n",
       "      <td>...</td>\n",
       "      <td>...</td>\n",
       "    </tr>\n",
       "    <tr>\n",
       "      <th>7618</th>\n",
       "      <td>100</td>\n",
       "      <td>95</td>\n",
       "      <td>13-04-2023 08:04</td>\n",
       "      <td>1</td>\n",
       "      <td>public</td>\n",
       "    </tr>\n",
       "    <tr>\n",
       "      <th>7619</th>\n",
       "      <td>100</td>\n",
       "      <td>96</td>\n",
       "      <td>13-04-2023 08:04</td>\n",
       "      <td>1</td>\n",
       "      <td>private</td>\n",
       "    </tr>\n",
       "    <tr>\n",
       "      <th>7620</th>\n",
       "      <td>100</td>\n",
       "      <td>97</td>\n",
       "      <td>13-04-2023 08:04</td>\n",
       "      <td>1</td>\n",
       "      <td>private</td>\n",
       "    </tr>\n",
       "    <tr>\n",
       "      <th>7621</th>\n",
       "      <td>100</td>\n",
       "      <td>98</td>\n",
       "      <td>13-04-2023 08:04</td>\n",
       "      <td>1</td>\n",
       "      <td>public</td>\n",
       "    </tr>\n",
       "    <tr>\n",
       "      <th>7622</th>\n",
       "      <td>100</td>\n",
       "      <td>99</td>\n",
       "      <td>13-04-2023 08:04</td>\n",
       "      <td>1</td>\n",
       "      <td>private</td>\n",
       "    </tr>\n",
       "  </tbody>\n",
       "</table>\n",
       "<p>7623 rows × 5 columns</p>\n",
       "</div>"
      ],
      "text/plain": [
       "      follower  followee       created time  is follower active  \\\n",
       "0            2          1  13-04-2023 08:04                   1   \n",
       "1            2          3  13-04-2023 08:04                   0   \n",
       "2            2          4  13-04-2023 08:04                   0   \n",
       "3            2          5  13-04-2023 08:04                   0   \n",
       "4            2          6  13-04-2023 08:04                   1   \n",
       "...        ...        ...               ...                 ...   \n",
       "7618       100         95  13-04-2023 08:04                   1   \n",
       "7619       100         96  13-04-2023 08:04                   1   \n",
       "7620       100         97  13-04-2023 08:04                   1   \n",
       "7621       100         98  13-04-2023 08:04                   1   \n",
       "7622       100         99  13-04-2023 08:04                   1   \n",
       "\n",
       "     followee Acc status  \n",
       "0                private  \n",
       "1                private  \n",
       "2                 public  \n",
       "3                private  \n",
       "4                private  \n",
       "...                  ...  \n",
       "7618              public  \n",
       "7619             private  \n",
       "7620             private  \n",
       "7621              public  \n",
       "7622             private  \n",
       "\n",
       "[7623 rows x 5 columns]"
      ]
     },
     "execution_count": 54,
     "metadata": {},
     "output_type": "execute_result"
    }
   ],
   "source": [
    "follows"
   ]
  },
  {
   "cell_type": "code",
   "execution_count": 57,
   "id": "661edf27-8e07-4c41-8e0b-1fc987292137",
   "metadata": {},
   "outputs": [],
   "source": [
    "follows['followee Acc status'] = follows['followee Acc status'].str.lower()  # Converts everything to lowercase"
   ]
  },
  {
   "cell_type": "code",
   "execution_count": 66,
   "id": "4c0ed3ac-a0a1-4bfc-bf7f-9b7aa354008e",
   "metadata": {},
   "outputs": [
    {
     "data": {
      "text/plain": [
       "is follower active\n",
       "1    4197\n",
       "0    3426\n",
       "Name: count, dtype: int64"
      ]
     },
     "execution_count": 66,
     "metadata": {},
     "output_type": "execute_result"
    }
   ],
   "source": [
    "follower_counts = follows[\"is follower active\"].value_counts()\n",
    "follower_counts"
   ]
  },
  {
   "cell_type": "code",
   "execution_count": 82,
   "id": "3456e063-ae7d-439b-877a-315d648d8045",
   "metadata": {},
   "outputs": [
    {
     "data": {
      "image/png": "[encoded data removed]",
      "text/plain": [
       "<Figure size 640x480 with 1 Axes>"
      ]
     },
     "metadata": {},
     "output_type": "display_data"
    }
   ],
   "source": [
    "follows[\"is follower active\"].value_counts().plot(kind=\"bar\",xlabel=\"Follower Active Status\", ylabel=\"Count of Active Status\",color=['yellow', 'red'],  # Choose distinct colors\n",
    "    edgecolor='black' )\n",
    "for p in ax.patches:\n",
    "    ax.annotate(f\"{p.get_height()}\", (p.get_x() + p.get_width() / 2, p.get_height()), \n",
    "                ha='center', va='bottom', fontsize=11, fontweight='bold', color='black')\n",
    "plt.show()"
   ]
  },
  {
   "cell_type": "code",
   "execution_count": 63,
   "id": "f3523de2-0526-4443-a140-9b8da88392c5",
   "metadata": {},
   "outputs": [
    {
     "data": {
      "image/png": "[encoded data removed]",
      "text/plain": [
       "<Figure size 800x500 with 1 Axes>"
      ]
     },
     "metadata": {},
     "output_type": "display_data"
    }
   ],
   "source": [
    "# Set figure size and style\n",
    "plt.figure(figsize=(8, 5))\n",
    "sns.set_style(\"whitegrid\")\n",
    "\n",
    "# Create bar plot with improved aesthetics\n",
    "ax = follows[\"is follower active\"].value_counts().plot(\n",
    "    kind=\"bar\",\n",
    "    color=['#1f77b4', '#ff7f0e'],  # Choose distinct colors\n",
    "    edgecolor='black'\n",
    ")\n",
    "\n",
    "# Add title and labels with better formatting\n",
    "plt.title(\"Follower Activity Status Distribution\", fontsize=14, fontweight=\"bold\")\n",
    "plt.xlabel(\"Follower Active Status\", fontsize=12)\n",
    "plt.ylabel(\"Count\", fontsize=12)\n",
    "plt.xticks(rotation=0)  # Keep labels readable\n",
    "plt.grid(axis='y', linestyle='--', alpha=0.7)  # Add subtle grid lines\n",
    "\n",
    "# Show exact counts on bars\n",
    "for p in ax.patches:\n",
    "    ax.annotate(f\"{p.get_height()}\", (p.get_x() + p.get_width() / 2, p.get_height()), \n",
    "                ha='center', va='bottom', fontsize=11, fontweight='bold', color='black')\n",
    "\n",
    "# Show plot\n",
    "plt.show()"
   ]
  },
  {
   "cell_type": "code",
   "execution_count": 60,
   "id": "a726fa48-54bb-493d-ba43-c35d96d8daa9",
   "metadata": {},
   "outputs": [
    {
     "data": {
      "text/plain": [
       "followee Acc status\n",
       "private    4569\n",
       "public     3054\n",
       "Name: count, dtype: int64"
      ]
     },
     "execution_count": 60,
     "metadata": {},
     "output_type": "execute_result"
    }
   ],
   "source": [
    "Accstatus = follows[\"followee Acc status\"].value_counts()\n",
    "Accstatus"
   ]
  },
  {
   "cell_type": "code",
   "execution_count": 84,
   "id": "70108f1e-eb96-4229-ba2a-3f73eae1a789",
   "metadata": {},
   "outputs": [
    {
     "data": {
      "image/png": "[encoded data removed]",
      "text/plain": [
       "<Figure size 640x480 with 1 Axes>"
      ]
     },
     "metadata": {},
     "output_type": "display_data"
    }
   ],
   "source": [
    "Accstatus.plot(kind=\"bar\",\n",
    "              color=['#e3b532','#c5f713'])\n",
    "plt.show()"
   ]
  },
  {
   "cell_type": "code",
   "execution_count": null,
   "id": "f01104b0-02a0-486e-91a0-566d30f9eb73",
   "metadata": {},
   "outputs": [],
   "source": []
  },
  {
   "cell_type": "markdown",
   "id": "af74db40-488e-4cc1-9c29-8ab3e188d7e7",
   "metadata": {
    "jp-MarkdownHeadingCollapsed": true
   },
   "source": [
    "<h3>comments Analysis</h3>"
   ]
  },
  {
   "cell_type": "code",
   "execution_count": 22,
   "id": "f3f2ac0a-d228-47cc-b16d-65fb5fd8bc1b",
   "metadata": {},
   "outputs": [
    {
     "data": {
      "text/html": [
       "<div>\n",
       "<style scoped>\n",
       "    .dataframe tbody tr th:only-of-type {\n",
       "        vertical-align: middle;\n",
       "    }\n",
       "\n",
       "    .dataframe tbody tr th {\n",
       "        vertical-align: top;\n",
       "    }\n",
       "\n",
       "    .dataframe thead th {\n",
       "        text-align: right;\n",
       "    }\n",
       "</style>\n",
       "<table border=\"1\" class=\"dataframe\">\n",
       "  <thead>\n",
       "    <tr style=\"text-align: right;\">\n",
       "      <th></th>\n",
       "      <th>id</th>\n",
       "      <th>comment</th>\n",
       "      <th>User  id</th>\n",
       "      <th>Photo id</th>\n",
       "      <th>created Timestamp</th>\n",
       "      <th>posted date</th>\n",
       "      <th>emoji used</th>\n",
       "      <th>Hashtags used count</th>\n",
       "    </tr>\n",
       "  </thead>\n",
       "  <tbody>\n",
       "    <tr>\n",
       "      <th>0</th>\n",
       "      <td>1</td>\n",
       "      <td>unde at dolorem</td>\n",
       "      <td>2</td>\n",
       "      <td>1</td>\n",
       "      <td>13-04-2023 08:04</td>\n",
       "      <td>April 14</td>\n",
       "      <td>yes</td>\n",
       "      <td>1</td>\n",
       "    </tr>\n",
       "    <tr>\n",
       "      <th>1</th>\n",
       "      <td>2</td>\n",
       "      <td>quae ea ducimus</td>\n",
       "      <td>3</td>\n",
       "      <td>1</td>\n",
       "      <td>13-04-2023 08:04</td>\n",
       "      <td>April 14</td>\n",
       "      <td>no</td>\n",
       "      <td>2</td>\n",
       "    </tr>\n",
       "    <tr>\n",
       "      <th>2</th>\n",
       "      <td>3</td>\n",
       "      <td>alias a voluptatum</td>\n",
       "      <td>5</td>\n",
       "      <td>1</td>\n",
       "      <td>13-04-2023 08:04</td>\n",
       "      <td>April 14</td>\n",
       "      <td>no</td>\n",
       "      <td>4</td>\n",
       "    </tr>\n",
       "    <tr>\n",
       "      <th>3</th>\n",
       "      <td>4</td>\n",
       "      <td>facere suscipit sunt</td>\n",
       "      <td>14</td>\n",
       "      <td>1</td>\n",
       "      <td>13-04-2023 08:04</td>\n",
       "      <td>April 14</td>\n",
       "      <td>yes</td>\n",
       "      <td>2</td>\n",
       "    </tr>\n",
       "    <tr>\n",
       "      <th>4</th>\n",
       "      <td>5</td>\n",
       "      <td>totam eligendi quaerat</td>\n",
       "      <td>17</td>\n",
       "      <td>1</td>\n",
       "      <td>13-04-2023 08:04</td>\n",
       "      <td>April 14</td>\n",
       "      <td>yes</td>\n",
       "      <td>1</td>\n",
       "    </tr>\n",
       "    <tr>\n",
       "      <th>...</th>\n",
       "      <td>...</td>\n",
       "      <td>...</td>\n",
       "      <td>...</td>\n",
       "      <td>...</td>\n",
       "      <td>...</td>\n",
       "      <td>...</td>\n",
       "      <td>...</td>\n",
       "      <td>...</td>\n",
       "    </tr>\n",
       "    <tr>\n",
       "      <th>7483</th>\n",
       "      <td>7484</td>\n",
       "      <td>accusamus vel est</td>\n",
       "      <td>82</td>\n",
       "      <td>257</td>\n",
       "      <td>13-04-2023 08:04</td>\n",
       "      <td>April 14</td>\n",
       "      <td>no</td>\n",
       "      <td>5</td>\n",
       "    </tr>\n",
       "    <tr>\n",
       "      <th>7484</th>\n",
       "      <td>7485</td>\n",
       "      <td>sit nulla qui</td>\n",
       "      <td>91</td>\n",
       "      <td>257</td>\n",
       "      <td>13-04-2023 08:04</td>\n",
       "      <td>April 14</td>\n",
       "      <td>no</td>\n",
       "      <td>6</td>\n",
       "    </tr>\n",
       "    <tr>\n",
       "      <th>7485</th>\n",
       "      <td>7486</td>\n",
       "      <td>sed quidem vitae</td>\n",
       "      <td>93</td>\n",
       "      <td>257</td>\n",
       "      <td>13-04-2023 08:04</td>\n",
       "      <td>April 14</td>\n",
       "      <td>yes</td>\n",
       "      <td>2</td>\n",
       "    </tr>\n",
       "    <tr>\n",
       "      <th>7486</th>\n",
       "      <td>7487</td>\n",
       "      <td>dolorem eveniet rerum</td>\n",
       "      <td>95</td>\n",
       "      <td>257</td>\n",
       "      <td>13-04-2023 08:04</td>\n",
       "      <td>April 14</td>\n",
       "      <td>yes</td>\n",
       "      <td>1</td>\n",
       "    </tr>\n",
       "    <tr>\n",
       "      <th>7487</th>\n",
       "      <td>7488</td>\n",
       "      <td>dolores nihil voluptas</td>\n",
       "      <td>96</td>\n",
       "      <td>257</td>\n",
       "      <td>13-04-2023 08:04</td>\n",
       "      <td>April 14</td>\n",
       "      <td>no</td>\n",
       "      <td>3</td>\n",
       "    </tr>\n",
       "  </tbody>\n",
       "</table>\n",
       "<p>7488 rows × 8 columns</p>\n",
       "</div>"
      ],
      "text/plain": [
       "        id                 comment  User  id  Photo id created Timestamp  \\\n",
       "0        1         unde at dolorem         2         1  13-04-2023 08:04   \n",
       "1        2         quae ea ducimus         3         1  13-04-2023 08:04   \n",
       "2        3      alias a voluptatum         5         1  13-04-2023 08:04   \n",
       "3        4    facere suscipit sunt        14         1  13-04-2023 08:04   \n",
       "4        5  totam eligendi quaerat        17         1  13-04-2023 08:04   \n",
       "...    ...                     ...       ...       ...               ...   \n",
       "7483  7484       accusamus vel est        82       257  13-04-2023 08:04   \n",
       "7484  7485           sit nulla qui        91       257  13-04-2023 08:04   \n",
       "7485  7486        sed quidem vitae        93       257  13-04-2023 08:04   \n",
       "7486  7487   dolorem eveniet rerum        95       257  13-04-2023 08:04   \n",
       "7487  7488  dolores nihil voluptas        96       257  13-04-2023 08:04   \n",
       "\n",
       "     posted date emoji used  Hashtags used count  \n",
       "0       April 14        yes                    1  \n",
       "1       April 14         no                    2  \n",
       "2       April 14         no                    4  \n",
       "3       April 14        yes                    2  \n",
       "4       April 14        yes                    1  \n",
       "...          ...        ...                  ...  \n",
       "7483    April 14         no                    5  \n",
       "7484    April 14         no                    6  \n",
       "7485    April 14        yes                    2  \n",
       "7486    April 14        yes                    1  \n",
       "7487    April 14         no                    3  \n",
       "\n",
       "[7488 rows x 8 columns]"
      ]
     },
     "execution_count": 22,
     "metadata": {},
     "output_type": "execute_result"
    }
   ],
   "source": [
    "comments"
   ]
  },
  {
   "cell_type": "code",
   "execution_count": 23,
   "id": "2193428e-1a26-40c9-bca7-6ca9aac7a3e6",
   "metadata": {},
   "outputs": [
    {
     "data": {
      "text/plain": [
       "emoji used\n",
       "yes    3744\n",
       "no     3744\n",
       "Name: count, dtype: int64"
      ]
     },
     "execution_count": 23,
     "metadata": {},
     "output_type": "execute_result"
    }
   ],
   "source": [
    "comments[\"emoji used\"].value_counts()"
   ]
  },
  {
   "cell_type": "code",
   "execution_count": 24,
   "id": "07e5b2d0-1c64-464e-95ce-8f176a486fed",
   "metadata": {},
   "outputs": [
    {
     "data": {
      "text/plain": [
       "<Axes: ylabel='count'>"
      ]
     },
     "execution_count": 24,
     "metadata": {},
     "output_type": "execute_result"
    },
    {
     "data": {
      "image/png": "[encoded data removed]",
      "text/plain": [
       "<Figure size 640x480 with 1 Axes>"
      ]
     },
     "metadata": {},
     "output_type": "display_data"
    }
   ],
   "source": [
    "comments[\"emoji used\"].value_counts().plot(kind='pie',ylabel='count')"
   ]
  },
  {
   "cell_type": "code",
   "execution_count": 25,
   "id": "7685e1e0-519b-4b22-ba29-af1c3bce2755",
   "metadata": {},
   "outputs": [
    {
     "data": {
      "image/png": "[encoded data removed]",
      "text/plain": [
       "<Figure size 640x480 with 1 Axes>"
      ]
     },
     "metadata": {},
     "output_type": "display_data"
    }
   ],
   "source": [
    "comments['Hashtags used count'].value_counts().plot(kind=\"pie\", autopct='%1.1f%%')\n",
    "plt.show()"
   ]
  },
  {
   "cell_type": "code",
   "execution_count": 26,
   "id": "5d35eb9d-d3a8-4510-ac8b-aacf375aa5a6",
   "metadata": {},
   "outputs": [
    {
     "data": {
      "text/plain": [
       "Hashtags used count\n",
       "2    2496\n",
       "1    1872\n",
       "4     624\n",
       "0     624\n",
       "5     624\n",
       "6     624\n",
       "3     624\n",
       "Name: count, dtype: int64"
      ]
     },
     "execution_count": 26,
     "metadata": {},
     "output_type": "execute_result"
    }
   ],
   "source": [
    "comments[\"Hashtags used count\"].value_counts()"
   ]
  },
  {
   "cell_type": "code",
   "execution_count": 27,
   "id": "927ebac9-4333-4c80-97b7-1e2d888c1213",
   "metadata": {},
   "outputs": [
    {
     "data": {
      "text/plain": [
       "<Axes: xlabel='Hashtags used count'>"
      ]
     },
     "execution_count": 27,
     "metadata": {},
     "output_type": "execute_result"
    },
    {
     "data": {
      "image/png": "[encoded data removed]",
      "text/plain": [
       "<Figure size 640x480 with 1 Axes>"
      ]
     },
     "metadata": {},
     "output_type": "display_data"
    }
   ],
   "source": [
    "comments[\"Hashtags used count\"].value_counts().plot(kind=\"bar\")"
   ]
  },
  {
   "cell_type": "code",
   "execution_count": null,
   "id": "539673b6-282b-405f-ab33-eaf8bf7fe198",
   "metadata": {},
   "outputs": [],
   "source": []
  }
 ],
 "metadata": {
  "kernelspec": {
   "display_name": "Python 3 (ipykernel)",
   "language": "python",
   "name": "python3"
  },
  "language_info": {
   "codemirror_mode": {
    "name": "ipython",
    "version": 3
   },
   "file_extension": ".py",
   "mimetype": "text/x-python",
   "name": "python",
   "nbconvert_exporter": "python",
   "pygments_lexer": "ipython3",
   "version": "3.12.7"
  }
 },
 "nbformat": 4,
 "nbformat_minor": 5
}
